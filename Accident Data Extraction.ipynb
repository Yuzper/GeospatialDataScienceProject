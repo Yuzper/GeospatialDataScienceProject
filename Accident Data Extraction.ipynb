{
 "cells": [
  {
   "cell_type": "code",
   "execution_count": null,
   "id": "450b2288",
   "metadata": {},
   "outputs": [],
   "source": [
    "import pandas as pd\n",
    "import numpy as np\n",
    "import matplotlib.pyplot as plt\n",
    "import csv"
   ]
  },
  {
   "cell_type": "code",
   "execution_count": 24,
   "id": "bc2625b2",
   "metadata": {},
   "outputs": [
    {
     "name": "stdout",
     "output_type": "stream",
     "text": [
      "    ID   Source  Severity           Start_Time             End_Time  \\\n",
      "0  A-1  Source2         3  2016-02-08 05:46:00  2016-02-08 11:00:00   \n",
      "1  A-2  Source2         2  2016-02-08 06:07:59  2016-02-08 06:37:59   \n",
      "2  A-3  Source2         2  2016-02-08 06:49:27  2016-02-08 07:19:27   \n",
      "3  A-4  Source2         3  2016-02-08 07:23:34  2016-02-08 07:53:34   \n",
      "4  A-5  Source2         2  2016-02-08 07:39:07  2016-02-08 08:09:07   \n",
      "\n",
      "   Start_Lat  Start_Lng  End_Lat  End_Lng  Distance(mi)  ... Roundabout  \\\n",
      "0  39.865147 -84.058723      NaN      NaN          0.01  ...      False   \n",
      "1  39.928059 -82.831184      NaN      NaN          0.01  ...      False   \n",
      "2  39.063148 -84.032608      NaN      NaN          0.01  ...      False   \n",
      "3  39.747753 -84.205582      NaN      NaN          0.01  ...      False   \n",
      "4  39.627781 -84.188354      NaN      NaN          0.01  ...      False   \n",
      "\n",
      "  Station   Stop Traffic_Calming Traffic_Signal Turning_Loop Sunrise_Sunset  \\\n",
      "0   False  False           False          False        False          Night   \n",
      "1   False  False           False          False        False          Night   \n",
      "2   False  False           False           True        False          Night   \n",
      "3   False  False           False          False        False          Night   \n",
      "4   False  False           False           True        False            Day   \n",
      "\n",
      "  Civil_Twilight Nautical_Twilight Astronomical_Twilight  \n",
      "0          Night             Night                 Night  \n",
      "1          Night             Night                   Day  \n",
      "2          Night               Day                   Day  \n",
      "3            Day               Day                   Day  \n",
      "4            Day               Day                   Day  \n",
      "\n",
      "[5 rows x 46 columns]\n"
     ]
    }
   ],
   "source": [
    "df = pd.read_csv('data/US_Accidents_March23.csv')\n",
    "print(df.head())"
   ]
  },
  {
   "cell_type": "code",
   "execution_count": 30,
   "id": "f3c9dee2",
   "metadata": {},
   "outputs": [
    {
     "name": "stdout",
     "output_type": "stream",
     "text": [
      "The most common state is State\n",
      "CA    1741433\n",
      "FL     880192\n",
      "TX     582837\n",
      "SC     382557\n",
      "NY     347960\n",
      "Name: count, dtype: int64 with 1741433 entries.\n",
      "Procent of the total data used:  22.532922105161823\n"
     ]
    }
   ],
   "source": [
    "most_common_state = df[\"State\"].value_counts().head(5)\n",
    "entry_count = df[\"State\"].value_counts().max()\n",
    "print(f\"The most common state is {most_common_state} with {entry_count} entries.\")\n",
    "print(\"Procent of the total data used: \", (entry_count / len(df)) * 100)"
   ]
  },
  {
   "cell_type": "code",
   "execution_count": 31,
   "id": "0717c7bc",
   "metadata": {},
   "outputs": [
    {
     "data": {
      "text/plain": [
       "Index(['ID', 'Source', 'Severity', 'Start_Time', 'End_Time', 'Start_Lat',\n",
       "       'Start_Lng', 'End_Lat', 'End_Lng', 'Distance(mi)', 'Description',\n",
       "       'Street', 'City', 'County', 'State', 'Zipcode', 'Country', 'Timezone',\n",
       "       'Airport_Code', 'Weather_Timestamp', 'Temperature(F)', 'Wind_Chill(F)',\n",
       "       'Humidity(%)', 'Pressure(in)', 'Visibility(mi)', 'Wind_Direction',\n",
       "       'Wind_Speed(mph)', 'Precipitation(in)', 'Weather_Condition', 'Amenity',\n",
       "       'Bump', 'Crossing', 'Give_Way', 'Junction', 'No_Exit', 'Railway',\n",
       "       'Roundabout', 'Station', 'Stop', 'Traffic_Calming', 'Traffic_Signal',\n",
       "       'Turning_Loop', 'Sunrise_Sunset', 'Civil_Twilight', 'Nautical_Twilight',\n",
       "       'Astronomical_Twilight'],\n",
       "      dtype='object')"
      ]
     },
     "execution_count": 31,
     "metadata": {},
     "output_type": "execute_result"
    }
   ],
   "source": [
    "df.columns"
   ]
  },
  {
   "cell_type": "code",
   "execution_count": 32,
   "id": "eea73194",
   "metadata": {},
   "outputs": [],
   "source": [
    "ca_df = df[df[\"State\"] == \"CA\"]"
   ]
  },
  {
   "cell_type": "code",
   "execution_count": 33,
   "id": "1729ce75",
   "metadata": {},
   "outputs": [
    {
     "name": "stdout",
     "output_type": "stream",
     "text": [
      "ID                            0\n",
      "Source                        0\n",
      "Severity                      0\n",
      "Start_Time                    0\n",
      "End_Time                      0\n",
      "Start_Lat                     0\n",
      "Start_Lng                     0\n",
      "End_Lat                  637331\n",
      "End_Lng                  637331\n",
      "Distance(mi)                  0\n",
      "Description                   3\n",
      "Street                     2442\n",
      "City                         11\n",
      "County                        0\n",
      "State                         0\n",
      "Zipcode                     597\n",
      "Country                       0\n",
      "Timezone                    597\n",
      "Airport_Code               2116\n",
      "Weather_Timestamp         32805\n",
      "Temperature(F)            45969\n",
      "Wind_Chill(F)            510965\n",
      "Humidity(%)               48341\n",
      "Pressure(in)              37126\n",
      "Visibility(mi)            40125\n",
      "Wind_Direction            46189\n",
      "Wind_Speed(mph)          162891\n",
      "Precipitation(in)        566204\n",
      "Weather_Condition         39778\n",
      "Amenity                       0\n",
      "Bump                          0\n",
      "Crossing                      0\n",
      "Give_Way                      0\n",
      "Junction                      0\n",
      "No_Exit                       0\n",
      "Railway                       0\n",
      "Roundabout                    0\n",
      "Station                       0\n",
      "Stop                          0\n",
      "Traffic_Calming               0\n",
      "Traffic_Signal                0\n",
      "Turning_Loop                  0\n",
      "Sunrise_Sunset             1343\n",
      "Civil_Twilight             1343\n",
      "Nautical_Twilight          1343\n",
      "Astronomical_Twilight      1343\n",
      "dtype: int64\n"
     ]
    }
   ],
   "source": [
    "print(ca_df.isnull().sum())\n"
   ]
  },
  {
   "cell_type": "markdown",
   "id": "f39462d7",
   "metadata": {},
   "source": [
    "We can use the start latitude and longittude for the project, no need for end latitude and longitude so no removing of missing data at this point."
   ]
  },
  {
   "cell_type": "code",
   "execution_count": null,
   "id": "5471198a",
   "metadata": {},
   "outputs": [],
   "source": []
  },
  {
   "cell_type": "code",
   "execution_count": 34,
   "id": "ed4f9873",
   "metadata": {},
   "outputs": [],
   "source": [
    "# Save to a new CSV file\n",
    "ca_df.to_csv(\"data/CA_subset.csv\", index=False)"
   ]
  },
  {
   "cell_type": "code",
   "execution_count": null,
   "id": "8ecf5106",
   "metadata": {},
   "outputs": [],
   "source": []
  },
  {
   "cell_type": "code",
   "execution_count": null,
   "id": "87ffaa7c",
   "metadata": {},
   "outputs": [],
   "source": []
  },
  {
   "cell_type": "code",
   "execution_count": null,
   "id": "407fd2fe",
   "metadata": {},
   "outputs": [],
   "source": []
  }
 ],
 "metadata": {
  "kernelspec": {
   "display_name": "base",
   "language": "python",
   "name": "python3"
  },
  "language_info": {
   "codemirror_mode": {
    "name": "ipython",
    "version": 3
   },
   "file_extension": ".py",
   "mimetype": "text/x-python",
   "name": "python",
   "nbconvert_exporter": "python",
   "pygments_lexer": "ipython3",
   "version": "3.12.7"
  }
 },
 "nbformat": 4,
 "nbformat_minor": 5
}
