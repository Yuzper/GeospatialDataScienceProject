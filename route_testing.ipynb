{
 "cells": [
  {
   "cell_type": "code",
   "execution_count": null,
   "id": "d6ea68be",
   "metadata": {},
   "outputs": [],
   "source": [
    "# %%\n",
    "import osmnx as ox\n",
    "import pandas as pd\n",
    "from routing import astar_route\n",
    "\n",
    "# 1. Load the LA driving graph\n",
    "G = ox.graph_from_place(\"Los Angeles, California, USA\", network_type=\"drive\")"
   ]
  },
  {
   "cell_type": "code",
   "execution_count": 19,
   "id": "a38f64b7",
   "metadata": {},
   "outputs": [
    {
     "name": "stdout",
     "output_type": "stream",
     "text": [
      "[1849409643, 123018936, 123565234, 33155647, 14941504, 1985260166, 2296327020, 1985260196, 281506189, 2258860847, 281506167, 32274961, 72448807, 14798642, 72448746, 17737741, 14941693, 21150896, 16941224, 122977613, 16203358, 122741782, 122977609, 68965696, 1994531073, 250001395, 122656711, 122872202, 122977592, 122977589, 122967648, 122792131, 122977587, 122670717, 268373135, 17677673, 11340695338, 68267399, 122645236, 123637708, 68267394, 1838396767, 60945762, 268653344, 250586509, 268653330, 1842838208, 1838389220, 20400044, 20400214, 60946365, 122663619, 60946368, 122999186, 123008568, 123008570, 122834000, 123008579, 123008582]\n",
      "Number of nodes in path: 59\n",
      "Number of edges in path: 58\n",
      "Roads to follow: ['North Rowan Avenue', 'North Rowan Avenue', 'Valley Boulevard', 'Valley Boulevard', 'Valley Boulevard', 'Valley Boulevard', 'Valley Boulevard', 'North Main Street', 'North Main Street', 'North Main Street', 'North Main Street', 'North Main Street', 'North Main Street', 'North Main Street', 'North Main Street', 'North Main Street', 'North Main Street', 'North Main Street', 'North Main Street', 'North Main Street', 'North Main Street', 'North Main Street', 'North Main Street', 'North Main Street', 'North Main Street', 'North Main Street', 'North Main Street', 'North Main Street', 'North Main Street', 'North Main Street', 'North Main Street', 'North Main Street', 'North Main Street', 'West College Street', 'West College Street', 'West College Street', 'West College Street', 'West College Street', 'West College Street', 'West College Street', 'West College Street', 'West College Street', 'Figueroa Terrace', 'Figueroa Terrace', 'Figueroa Terrace', 'Figueroa Terrace', 'Figueroa Terrace', 'Beaudry Avenue', 'Beaudry Avenue', 'Beaudry Avenue', 'West Temple Street', 'West Temple Street', 'North Boylston Street', 'West Court Street', 'West Court Street', 'West Court Street', 'West Court Street', 'West Court Street']\n"
     ]
    }
   ],
   "source": [
    "\n",
    "# ## 2. Load the risk map for a given weather condition\n",
    "condition = \"Rain\"  # ← pick one of: Clear, Partially cloudy, Overcast, Rain, Rain, Overcast, Rain, Partially cloudy\n",
    "csv_path = f\"risk_maps/{condition.replace(', ', '_').replace(' ', '_')}.csv\"\n",
    "risk_df = pd.read_csv(csv_path)\n",
    "\n",
    "# Build a lookup from road_name → risk_score\n",
    "risk_lookup = dict(zip(risk_df[\"road_name\"], risk_df[\"risk_score\"]))\n",
    "\n",
    "# ## 3. Annotate every edge with two cost fields\n",
    "for u, v, key, data in G.edges(keys=True, data=True):\n",
    "    # base length\n",
    "    length = data.get(\"length\", 1.0)\n",
    "    data[\"cost_distance\"] = length\n",
    "\n",
    "    # determine road name\n",
    "    name = data.get(\"name\")\n",
    "    if isinstance(name, list):\n",
    "        name = name[0]\n",
    "    if not name:\n",
    "        name = \"Unnamed Road\"\n",
    "\n",
    "    # lookup risk (default = 0)\n",
    "    risk = risk_lookup.get(name, 0.0)\n",
    "\n",
    "    # cost_risk = length * (1 + risk) so that risk 0→1 scales cost 1×→2×\n",
    "    data[\"cost_risk\"] = length * (1 + risk)\n",
    "\n",
    "# %% [markdown]\n",
    "# ## 4. Pick your cost attribute based on the condition\n",
    "# if you want pure distance:\n",
    "#   cost_attr = \"cost_distance\"\n",
    "#\n",
    "# if you want to penalize risky roads:\n",
    "#   cost_attr = \"cost_risk\"\n",
    "\n",
    "use_risk = True\n",
    "cost_attr = \"cost_risk\" if use_risk else \"cost_distance\"\n",
    "\n",
    "# ## 5. Run A* and inspect the results\n",
    "origin = (34.06655181863482, -118.18789017013762)\n",
    "destination = (34.0647417476385, -118.25823027030046)\n",
    "\n",
    "node_path, edge_path, road_names = astar_route(\n",
    "    G,\n",
    "    origin_point=origin,\n",
    "    destination_point=destination,\n",
    "    weight=cost_attr\n",
    ")\n",
    "print(node_path)\n",
    "print(f\"Number of nodes in path: {len(node_path)}\")\n",
    "print(f\"Number of edges in path: {len(edge_path)}\")\n",
    "print(\"Roads to follow:\", road_names)"
   ]
  }
 ],
 "metadata": {
  "kernelspec": {
   "display_name": "Python (WSL2)",
   "language": "python",
   "name": "wsl2-py"
  },
  "language_info": {
   "codemirror_mode": {
    "name": "ipython",
    "version": 3
   },
   "file_extension": ".py",
   "mimetype": "text/x-python",
   "name": "python",
   "nbconvert_exporter": "python",
   "pygments_lexer": "ipython3",
   "version": "3.12.3"
  }
 },
 "nbformat": 4,
 "nbformat_minor": 5
}
